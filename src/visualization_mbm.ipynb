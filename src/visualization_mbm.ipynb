{
 "cells": [
  {
   "cell_type": "code",
   "execution_count": 1,
   "metadata": {},
   "outputs": [],
   "source": [
    "import pymongo \n",
    "import pandas as pd\n",
    "import numpy as np\n",
    "import config"
   ]
  },
  {
   "cell_type": "code",
   "execution_count": 2,
   "metadata": {},
   "outputs": [],
   "source": [
    "# Connect with the portnumber and host  \n",
    "client = pymongo.MongoClient(config.mongo_conn)  \n",
    "    \n",
    "# Access database  \n",
    "cl_db = client['craigslist_db']  \n",
    "    \n",
    "# Access collection of the database  \n",
    "cl_collection = cl_db['listings']  "
   ]
  },
  {
   "cell_type": "code",
   "execution_count": 3,
   "metadata": {},
   "outputs": [],
   "source": [
    "cursor = cl_collection.find({},{ 'data_id': 1, 'listing_price': 1, 'listing_addrlocality': 1,'listing_addrzip': 1,'listing_bedbath': 1,'listing_type': 1, 'listing_datetime': 1,'listing_sqft': 1, '_id': 0 })   \n",
    "\n",
    "list_cur = list(cursor)\n",
    "df = pd.DataFrame(list_cur)\n",
    "df[\"listing_price\"] = df[\"listing_price\"].str.replace(\"$\",\"\")\n",
    "df[\"listing_price\"] = df[\"listing_price\"].str.replace(\",\",\"\")\n",
    "df[\"listing_sqft\"] = df[\"listing_sqft\"].str.replace(\"ft2\",\"\")\n"
   ]
  },
  {
   "cell_type": "code",
   "execution_count": 4,
   "metadata": {},
   "outputs": [
    {
     "output_type": "execute_result",
     "data": {
      "text/plain": [
       "      data_id listing_price listing_addrlocality listing_addrzip  \\\n",
       "0  7278244211          2095             Carlsbad           92009   \n",
       "1  7280806990          2920            San Diego           92121   \n",
       "2  7278515816          1575            Escondido           92033   \n",
       "3  7277910674          2030           San Marcos           92079   \n",
       "4  7279719841          1437            Escondido           92033   \n",
       "\n",
       "  listing_bedbath listing_type listing_sqft  listing_datetime  \n",
       "0       1BR / 1Ba    Apartment          679  2021-02-23 15:37  \n",
       "1       2BR / 2Ba    Apartment         1098  2021-02-21 15:13  \n",
       "2       2BR / 2Ba    Apartment          948  2021-02-21 15:08  \n",
       "3       1BR / 1Ba    Apartment          829  2021-02-21 15:08  \n",
       "4       1BR / 1Ba    Apartment          668  2021-02-21 14:57  "
      ],
      "text/html": "<div>\n<style scoped>\n    .dataframe tbody tr th:only-of-type {\n        vertical-align: middle;\n    }\n\n    .dataframe tbody tr th {\n        vertical-align: top;\n    }\n\n    .dataframe thead th {\n        text-align: right;\n    }\n</style>\n<table border=\"1\" class=\"dataframe\">\n  <thead>\n    <tr style=\"text-align: right;\">\n      <th></th>\n      <th>data_id</th>\n      <th>listing_price</th>\n      <th>listing_addrlocality</th>\n      <th>listing_addrzip</th>\n      <th>listing_bedbath</th>\n      <th>listing_type</th>\n      <th>listing_sqft</th>\n      <th>listing_datetime</th>\n    </tr>\n  </thead>\n  <tbody>\n    <tr>\n      <th>0</th>\n      <td>7278244211</td>\n      <td>2095</td>\n      <td>Carlsbad</td>\n      <td>92009</td>\n      <td>1BR / 1Ba</td>\n      <td>Apartment</td>\n      <td>679</td>\n      <td>2021-02-23 15:37</td>\n    </tr>\n    <tr>\n      <th>1</th>\n      <td>7280806990</td>\n      <td>2920</td>\n      <td>San Diego</td>\n      <td>92121</td>\n      <td>2BR / 2Ba</td>\n      <td>Apartment</td>\n      <td>1098</td>\n      <td>2021-02-21 15:13</td>\n    </tr>\n    <tr>\n      <th>2</th>\n      <td>7278515816</td>\n      <td>1575</td>\n      <td>Escondido</td>\n      <td>92033</td>\n      <td>2BR / 2Ba</td>\n      <td>Apartment</td>\n      <td>948</td>\n      <td>2021-02-21 15:08</td>\n    </tr>\n    <tr>\n      <th>3</th>\n      <td>7277910674</td>\n      <td>2030</td>\n      <td>San Marcos</td>\n      <td>92079</td>\n      <td>1BR / 1Ba</td>\n      <td>Apartment</td>\n      <td>829</td>\n      <td>2021-02-21 15:08</td>\n    </tr>\n    <tr>\n      <th>4</th>\n      <td>7279719841</td>\n      <td>1437</td>\n      <td>Escondido</td>\n      <td>92033</td>\n      <td>1BR / 1Ba</td>\n      <td>Apartment</td>\n      <td>668</td>\n      <td>2021-02-21 14:57</td>\n    </tr>\n  </tbody>\n</table>\n</div>"
     },
     "metadata": {},
     "execution_count": 4
    }
   ],
   "source": [
    "df.head()"
   ]
  },
  {
   "cell_type": "code",
   "execution_count": 9,
   "metadata": {},
   "outputs": [
    {
     "output_type": "execute_result",
     "data": {
      "text/plain": [
       "data_id                 9069\n",
       "listing_price           9069\n",
       "listing_addrlocality    8324\n",
       "listing_addrzip         8324\n",
       "listing_bedbath         8324\n",
       "listing_type            8324\n",
       "listing_sqft            8324\n",
       "listing_datetime        7764\n",
       "dtype: int64"
      ]
     },
     "metadata": {},
     "execution_count": 9
    }
   ],
   "source": [
    "df.count()"
   ]
  },
  {
   "cell_type": "code",
   "execution_count": 10,
   "metadata": {},
   "outputs": [],
   "source": [
    "blank_listing_sqft_df = df.loc[df['listing_sqft'] == '']\n",
    "data_ids_blank_sqft = blank_listing_sqft_df['data_id']\n",
    "\n",
    "# loop through blank sqft ids\n",
    "for data_id in data_ids_blank_sqft:\n",
    "    df.drop(df.index[df['data_id'] == data_id], inplace = True)\n"
   ]
  },
  {
   "cell_type": "code",
   "execution_count": 12,
   "metadata": {},
   "outputs": [],
   "source": [
    "blank_zip_sqft_df = df.loc[df['listing_addrzip'] == '']\n",
    "data_ids_blank_zip = blank_zip_sqft_df['data_id']\n",
    "\n",
    "# loop through blank zip ids\n",
    "for data_id in data_ids_blank_zip:\n",
    "    df.drop(df.index[df['data_id'] == data_id], inplace = True)\n"
   ]
  },
  {
   "cell_type": "code",
   "execution_count": 13,
   "metadata": {},
   "outputs": [],
   "source": [
    "clean_df = df.dropna()\n"
   ]
  },
  {
   "cell_type": "code",
   "execution_count": 15,
   "metadata": {},
   "outputs": [
    {
     "output_type": "execute_result",
     "data": {
      "text/plain": [
       "         data_id listing_price listing_addrlocality listing_addrzip  \\\n",
       "0     7278244211          2095             Carlsbad           92009   \n",
       "1     7280806990          2920            San Diego           92121   \n",
       "2     7278515816          1575            Escondido           92033   \n",
       "3     7277910674          2030           San Marcos           92079   \n",
       "4     7279719841          1437            Escondido           92033   \n",
       "...          ...           ...                  ...             ...   \n",
       "8145  7281372765          1785               Santee           92072   \n",
       "8146  7281378464          1605          Lemon Grove           91945   \n",
       "8147  7281369119          1508             El Cajon           92022   \n",
       "8148  7281369399          1508             El Cajon           92022   \n",
       "8150  7281356842          1805               Santee           92072   \n",
       "\n",
       "     listing_bedbath listing_type listing_sqft  listing_datetime  \n",
       "0          1BR / 1Ba    Apartment          679  2021-02-23 15:37  \n",
       "1          2BR / 2Ba    Apartment         1098  2021-02-21 15:13  \n",
       "2          2BR / 2Ba    Apartment          948  2021-02-21 15:08  \n",
       "3          1BR / 1Ba    Apartment          829  2021-02-21 15:08  \n",
       "4          1BR / 1Ba    Apartment          668  2021-02-21 14:57  \n",
       "...              ...          ...          ...               ...  \n",
       "8145       1BR / 1Ba    Apartment          700  2021-02-22 16:03  \n",
       "8146       1BR / 1Ba    Apartment          616  2021-02-22 15:59  \n",
       "8147       1BR / 1Ba    Apartment          740  2021-02-22 15:54  \n",
       "8148       1BR / 1Ba    Apartment          740  2021-02-22 15:48  \n",
       "8150       2BR / 1Ba    Apartment          865  2021-02-22 15:12  \n",
       "\n",
       "[5779 rows x 8 columns]"
      ],
      "text/html": "<div>\n<style scoped>\n    .dataframe tbody tr th:only-of-type {\n        vertical-align: middle;\n    }\n\n    .dataframe tbody tr th {\n        vertical-align: top;\n    }\n\n    .dataframe thead th {\n        text-align: right;\n    }\n</style>\n<table border=\"1\" class=\"dataframe\">\n  <thead>\n    <tr style=\"text-align: right;\">\n      <th></th>\n      <th>data_id</th>\n      <th>listing_price</th>\n      <th>listing_addrlocality</th>\n      <th>listing_addrzip</th>\n      <th>listing_bedbath</th>\n      <th>listing_type</th>\n      <th>listing_sqft</th>\n      <th>listing_datetime</th>\n    </tr>\n  </thead>\n  <tbody>\n    <tr>\n      <th>0</th>\n      <td>7278244211</td>\n      <td>2095</td>\n      <td>Carlsbad</td>\n      <td>92009</td>\n      <td>1BR / 1Ba</td>\n      <td>Apartment</td>\n      <td>679</td>\n      <td>2021-02-23 15:37</td>\n    </tr>\n    <tr>\n      <th>1</th>\n      <td>7280806990</td>\n      <td>2920</td>\n      <td>San Diego</td>\n      <td>92121</td>\n      <td>2BR / 2Ba</td>\n      <td>Apartment</td>\n      <td>1098</td>\n      <td>2021-02-21 15:13</td>\n    </tr>\n    <tr>\n      <th>2</th>\n      <td>7278515816</td>\n      <td>1575</td>\n      <td>Escondido</td>\n      <td>92033</td>\n      <td>2BR / 2Ba</td>\n      <td>Apartment</td>\n      <td>948</td>\n      <td>2021-02-21 15:08</td>\n    </tr>\n    <tr>\n      <th>3</th>\n      <td>7277910674</td>\n      <td>2030</td>\n      <td>San Marcos</td>\n      <td>92079</td>\n      <td>1BR / 1Ba</td>\n      <td>Apartment</td>\n      <td>829</td>\n      <td>2021-02-21 15:08</td>\n    </tr>\n    <tr>\n      <th>4</th>\n      <td>7279719841</td>\n      <td>1437</td>\n      <td>Escondido</td>\n      <td>92033</td>\n      <td>1BR / 1Ba</td>\n      <td>Apartment</td>\n      <td>668</td>\n      <td>2021-02-21 14:57</td>\n    </tr>\n    <tr>\n      <th>...</th>\n      <td>...</td>\n      <td>...</td>\n      <td>...</td>\n      <td>...</td>\n      <td>...</td>\n      <td>...</td>\n      <td>...</td>\n      <td>...</td>\n    </tr>\n    <tr>\n      <th>8145</th>\n      <td>7281372765</td>\n      <td>1785</td>\n      <td>Santee</td>\n      <td>92072</td>\n      <td>1BR / 1Ba</td>\n      <td>Apartment</td>\n      <td>700</td>\n      <td>2021-02-22 16:03</td>\n    </tr>\n    <tr>\n      <th>8146</th>\n      <td>7281378464</td>\n      <td>1605</td>\n      <td>Lemon Grove</td>\n      <td>91945</td>\n      <td>1BR / 1Ba</td>\n      <td>Apartment</td>\n      <td>616</td>\n      <td>2021-02-22 15:59</td>\n    </tr>\n    <tr>\n      <th>8147</th>\n      <td>7281369119</td>\n      <td>1508</td>\n      <td>El Cajon</td>\n      <td>92022</td>\n      <td>1BR / 1Ba</td>\n      <td>Apartment</td>\n      <td>740</td>\n      <td>2021-02-22 15:54</td>\n    </tr>\n    <tr>\n      <th>8148</th>\n      <td>7281369399</td>\n      <td>1508</td>\n      <td>El Cajon</td>\n      <td>92022</td>\n      <td>1BR / 1Ba</td>\n      <td>Apartment</td>\n      <td>740</td>\n      <td>2021-02-22 15:48</td>\n    </tr>\n    <tr>\n      <th>8150</th>\n      <td>7281356842</td>\n      <td>1805</td>\n      <td>Santee</td>\n      <td>92072</td>\n      <td>2BR / 1Ba</td>\n      <td>Apartment</td>\n      <td>865</td>\n      <td>2021-02-22 15:12</td>\n    </tr>\n  </tbody>\n</table>\n<p>5779 rows × 8 columns</p>\n</div>"
     },
     "metadata": {},
     "execution_count": 15
    }
   ],
   "source": [
    "clean_df"
   ]
  },
  {
   "cell_type": "code",
   "execution_count": 16,
   "metadata": {},
   "outputs": [
    {
     "output_type": "execute_result",
     "data": {
      "text/plain": [
       "data_id                 object\n",
       "listing_price           object\n",
       "listing_addrlocality    object\n",
       "listing_addrzip         object\n",
       "listing_bedbath         object\n",
       "listing_type            object\n",
       "listing_sqft            object\n",
       "listing_datetime        object\n",
       "dtype: object"
      ]
     },
     "metadata": {},
     "execution_count": 16
    }
   ],
   "source": [
    "clean_df.dtypes "
   ]
  },
  {
   "cell_type": "code",
   "execution_count": 19,
   "metadata": {},
   "outputs": [],
   "source": [
    "#change type string to float so it's easier to get avg price& sqft later\n",
    "\n",
    "clean_df[\"listing_price\"] = clean_df[\"listing_price\"].astype(float)\n",
    "clean_df[\"listing_sqft\"] = pd.to_numeric(clean_df['listing_sqft'] , downcast = \"float\" )\n",
    "clean_df[\"listing_datetime\"] = pd.to_datetime(clean_df['listing_datetime'])\n"
   ]
  },
  {
   "cell_type": "code",
   "execution_count": 20,
   "metadata": {},
   "outputs": [
    {
     "output_type": "execute_result",
     "data": {
      "text/plain": [
       "data_id                         object\n",
       "listing_price                  float64\n",
       "listing_addrlocality            object\n",
       "listing_addrzip                 object\n",
       "listing_bedbath                 object\n",
       "listing_type                    object\n",
       "listing_sqft                   float32\n",
       "listing_datetime        datetime64[ns]\n",
       "dtype: object"
      ]
     },
     "metadata": {},
     "execution_count": 20
    }
   ],
   "source": [
    "clean_df.dtypes "
   ]
  },
  {
   "cell_type": "code",
   "execution_count": 21,
   "metadata": {},
   "outputs": [
    {
     "output_type": "execute_result",
     "data": {
      "text/plain": [
       "         data_id  listing_price listing_addrlocality listing_addrzip  \\\n",
       "0     7278244211         2095.0             Carlsbad           92009   \n",
       "1     7280806990         2920.0            San Diego           92121   \n",
       "2     7278515816         1575.0            Escondido           92033   \n",
       "3     7277910674         2030.0           San Marcos           92079   \n",
       "4     7279719841         1437.0            Escondido           92033   \n",
       "...          ...            ...                  ...             ...   \n",
       "8145  7281372765         1785.0               Santee           92072   \n",
       "8146  7281378464         1605.0          Lemon Grove           91945   \n",
       "8147  7281369119         1508.0             El Cajon           92022   \n",
       "8148  7281369399         1508.0             El Cajon           92022   \n",
       "8150  7281356842         1805.0               Santee           92072   \n",
       "\n",
       "     listing_bedbath listing_type  listing_sqft    listing_datetime  \n",
       "0          1BR / 1Ba    Apartment         679.0 2021-02-23 15:37:00  \n",
       "1          2BR / 2Ba    Apartment        1098.0 2021-02-21 15:13:00  \n",
       "2          2BR / 2Ba    Apartment         948.0 2021-02-21 15:08:00  \n",
       "3          1BR / 1Ba    Apartment         829.0 2021-02-21 15:08:00  \n",
       "4          1BR / 1Ba    Apartment         668.0 2021-02-21 14:57:00  \n",
       "...              ...          ...           ...                 ...  \n",
       "8145       1BR / 1Ba    Apartment         700.0 2021-02-22 16:03:00  \n",
       "8146       1BR / 1Ba    Apartment         616.0 2021-02-22 15:59:00  \n",
       "8147       1BR / 1Ba    Apartment         740.0 2021-02-22 15:54:00  \n",
       "8148       1BR / 1Ba    Apartment         740.0 2021-02-22 15:48:00  \n",
       "8150       2BR / 1Ba    Apartment         865.0 2021-02-22 15:12:00  \n",
       "\n",
       "[5779 rows x 8 columns]"
      ],
      "text/html": "<div>\n<style scoped>\n    .dataframe tbody tr th:only-of-type {\n        vertical-align: middle;\n    }\n\n    .dataframe tbody tr th {\n        vertical-align: top;\n    }\n\n    .dataframe thead th {\n        text-align: right;\n    }\n</style>\n<table border=\"1\" class=\"dataframe\">\n  <thead>\n    <tr style=\"text-align: right;\">\n      <th></th>\n      <th>data_id</th>\n      <th>listing_price</th>\n      <th>listing_addrlocality</th>\n      <th>listing_addrzip</th>\n      <th>listing_bedbath</th>\n      <th>listing_type</th>\n      <th>listing_sqft</th>\n      <th>listing_datetime</th>\n    </tr>\n  </thead>\n  <tbody>\n    <tr>\n      <th>0</th>\n      <td>7278244211</td>\n      <td>2095.0</td>\n      <td>Carlsbad</td>\n      <td>92009</td>\n      <td>1BR / 1Ba</td>\n      <td>Apartment</td>\n      <td>679.0</td>\n      <td>2021-02-23 15:37:00</td>\n    </tr>\n    <tr>\n      <th>1</th>\n      <td>7280806990</td>\n      <td>2920.0</td>\n      <td>San Diego</td>\n      <td>92121</td>\n      <td>2BR / 2Ba</td>\n      <td>Apartment</td>\n      <td>1098.0</td>\n      <td>2021-02-21 15:13:00</td>\n    </tr>\n    <tr>\n      <th>2</th>\n      <td>7278515816</td>\n      <td>1575.0</td>\n      <td>Escondido</td>\n      <td>92033</td>\n      <td>2BR / 2Ba</td>\n      <td>Apartment</td>\n      <td>948.0</td>\n      <td>2021-02-21 15:08:00</td>\n    </tr>\n    <tr>\n      <th>3</th>\n      <td>7277910674</td>\n      <td>2030.0</td>\n      <td>San Marcos</td>\n      <td>92079</td>\n      <td>1BR / 1Ba</td>\n      <td>Apartment</td>\n      <td>829.0</td>\n      <td>2021-02-21 15:08:00</td>\n    </tr>\n    <tr>\n      <th>4</th>\n      <td>7279719841</td>\n      <td>1437.0</td>\n      <td>Escondido</td>\n      <td>92033</td>\n      <td>1BR / 1Ba</td>\n      <td>Apartment</td>\n      <td>668.0</td>\n      <td>2021-02-21 14:57:00</td>\n    </tr>\n    <tr>\n      <th>...</th>\n      <td>...</td>\n      <td>...</td>\n      <td>...</td>\n      <td>...</td>\n      <td>...</td>\n      <td>...</td>\n      <td>...</td>\n      <td>...</td>\n    </tr>\n    <tr>\n      <th>8145</th>\n      <td>7281372765</td>\n      <td>1785.0</td>\n      <td>Santee</td>\n      <td>92072</td>\n      <td>1BR / 1Ba</td>\n      <td>Apartment</td>\n      <td>700.0</td>\n      <td>2021-02-22 16:03:00</td>\n    </tr>\n    <tr>\n      <th>8146</th>\n      <td>7281378464</td>\n      <td>1605.0</td>\n      <td>Lemon Grove</td>\n      <td>91945</td>\n      <td>1BR / 1Ba</td>\n      <td>Apartment</td>\n      <td>616.0</td>\n      <td>2021-02-22 15:59:00</td>\n    </tr>\n    <tr>\n      <th>8147</th>\n      <td>7281369119</td>\n      <td>1508.0</td>\n      <td>El Cajon</td>\n      <td>92022</td>\n      <td>1BR / 1Ba</td>\n      <td>Apartment</td>\n      <td>740.0</td>\n      <td>2021-02-22 15:54:00</td>\n    </tr>\n    <tr>\n      <th>8148</th>\n      <td>7281369399</td>\n      <td>1508.0</td>\n      <td>El Cajon</td>\n      <td>92022</td>\n      <td>1BR / 1Ba</td>\n      <td>Apartment</td>\n      <td>740.0</td>\n      <td>2021-02-22 15:48:00</td>\n    </tr>\n    <tr>\n      <th>8150</th>\n      <td>7281356842</td>\n      <td>1805.0</td>\n      <td>Santee</td>\n      <td>92072</td>\n      <td>2BR / 1Ba</td>\n      <td>Apartment</td>\n      <td>865.0</td>\n      <td>2021-02-22 15:12:00</td>\n    </tr>\n  </tbody>\n</table>\n<p>5779 rows × 8 columns</p>\n</div>"
     },
     "metadata": {},
     "execution_count": 21
    }
   ],
   "source": [
    "clean_df"
   ]
  },
  {
   "cell_type": "code",
   "execution_count": null,
   "metadata": {},
   "outputs": [],
   "source": []
  }
 ],
 "metadata": {
  "kernelspec": {
   "display_name": "Python 3",
   "language": "python",
   "name": "python3"
  },
  "language_info": {
   "codemirror_mode": {
    "name": "ipython",
    "version": 3
   },
   "file_extension": ".py",
   "mimetype": "text/x-python",
   "name": "python",
   "nbconvert_exporter": "python",
   "pygments_lexer": "ipython3",
   "version": "3.8.5-final"
  }
 },
 "nbformat": 4,
 "nbformat_minor": 2
}