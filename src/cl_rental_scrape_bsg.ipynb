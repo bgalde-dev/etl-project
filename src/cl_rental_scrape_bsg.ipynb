{
 "metadata": {
  "language_info": {
   "codemirror_mode": {
    "name": "ipython",
    "version": 3
   },
   "file_extension": ".py",
   "mimetype": "text/x-python",
   "name": "python",
   "nbconvert_exporter": "python",
   "pygments_lexer": "ipython3",
   "version": "3.8.5"
  },
  "orig_nbformat": 2,
  "kernelspec": {
   "name": "python3",
   "display_name": "Python 3",
   "language": "python"
  }
 },
 "nbformat": 4,
 "nbformat_minor": 2,
 "cells": [
  {
   "cell_type": "code",
   "execution_count": 28,
   "metadata": {},
   "outputs": [
    {
     "output_type": "stream",
     "name": "stdout",
     "text": [
      "The autoreload extension is already loaded. To reload it, use:\n  %reload_ext autoreload\n"
     ]
    }
   ],
   "source": [
    "%load_ext autoreload\n",
    "%autoreload 2"
   ]
  },
  {
   "cell_type": "code",
   "execution_count": 29,
   "metadata": {},
   "outputs": [],
   "source": [
    "# Dependencies\n",
    "from bs4 import BeautifulSoup\n",
    "import requests\n",
    "import pymongo\n",
    "import dns\n",
    "import datetime\n",
    "from time import sleep\n",
    "import random\n",
    "import json\n",
    "\n",
    "from splinter import Browser\n",
    "from webdriver_manager.chrome import ChromeDriverManager\n",
    "\n",
    "# Project defined dependencies\n",
    "import config\n",
    "from pprint import pprint\n",
    "import cl_parser\n"
   ]
  },
  {
   "cell_type": "code",
   "execution_count": 30,
   "metadata": {
    "tags": []
   },
   "outputs": [],
   "source": [
    "# Create the craiglist parser\n",
    "my_parser = cl_parser.Parser() "
   ]
  },
  {
   "cell_type": "code",
   "execution_count": 31,
   "metadata": {},
   "outputs": [
    {
     "output_type": "stream",
     "name": "stdout",
     "text": [
      "7278244211\n"
     ]
    }
   ],
   "source": [
    "for listing in my_parser.listings_collection.find():\n",
    "    print(listing['data_id'])\n",
    "    break"
   ]
  },
  {
   "cell_type": "code",
   "execution_count": 32,
   "metadata": {},
   "outputs": [
    {
     "output_type": "execute_result",
     "data": {
      "text/plain": [
       "7979"
      ]
     },
     "metadata": {},
     "execution_count": 32
    }
   ],
   "source": [
    "# Get the current count of records\n",
    "my_parser.listings_collection.find().count() "
   ]
  },
  {
   "cell_type": "code",
   "execution_count": 33,
   "metadata": {},
   "outputs": [
    {
     "output_type": "stream",
     "name": "stdout",
     "text": [
      "{'_id': ObjectId('60330e42566e11a3b7aedc54'),\n 'created_datetime': datetime.datetime(2021, 2, 22, 1, 52, 2, 943000),\n 'data_id': '7280736862',\n 'listing_addrcountry': 'US',\n 'listing_address': '2051 Geneva St',\n 'listing_addrlocality': 'Vista',\n 'listing_addrregion': 'CA',\n 'listing_addrstreet': '740 Paseo Buena Vista',\n 'listing_addrzip': '92085',\n 'listing_attributes': ['EV charging',\n                        'cats are OK - purrr',\n                        'dogs are OK - wooof',\n                        'apartment',\n                        'w/d in unit',\n                        'no smoking',\n                        'detached garage'],\n 'listing_availability': 'available now',\n 'listing_bath': 1,\n 'listing_bed': '1',\n 'listing_bedbath': '1BR / 1Ba',\n 'listing_date': '2021-02-21 11:42',\n 'listing_datetime': '2021-02-21 11:42',\n 'listing_latitude': '33.208926',\n 'listing_link': 'https://sandiego.craigslist.org/nsd/apa/d/vista-strike-while-the-iron-is-hot/7280736862.html',\n 'listing_longitude': '-117.234635',\n 'listing_petsallowed': 'True',\n 'listing_price': '$1,995',\n 'listing_smokingallowed': 'False',\n 'listing_sqft': '732ft2',\n 'listing_title': 'Strike While the Iron is Hot! 6-Weeks FREE!',\n 'listing_type': 'Apartment',\n 'listing_url': 'https://sandiego.craigslist.org/nsd/apa/d/vista-strike-while-the-iron-is-hot/7280736862.html',\n 'modified_datetime': datetime.datetime(2021, 2, 22, 9, 25, 50, 475000)}\n"
     ]
    }
   ],
   "source": [
    "find_result = my_parser.listings_collection.find_one({'data_id': '7280736862'})\n",
    "pprint(find_result)"
   ]
  },
  {
   "cell_type": "code",
   "execution_count": 34,
   "metadata": {},
   "outputs": [
    {
     "output_type": "stream",
     "name": "stderr",
     "text": [
      "[WDM] - ====== WebDriver manager ======\n",
      "[WDM] - Current google-chrome version is 88.0.4324\n",
      "[WDM] - Get LATEST driver version for 88.0.4324\n",
      "\n",
      "\n",
      "[WDM] - Driver [C:\\Users\\Ben Galde\\.wdm\\drivers\\chromedriver\\win32\\88.0.4324.96\\chromedriver.exe] found in cache\n"
     ]
    }
   ],
   "source": [
    "executable_path = {'executable_path': ChromeDriverManager().install()}\n",
    "browser = Browser('chrome', **executable_path, headless=False)"
   ]
  },
  {
   "cell_type": "code",
   "execution_count": 35,
   "metadata": {},
   "outputs": [
    {
     "output_type": "stream",
     "name": "stdout",
     "text": [
      "['https://sandiego.craigslist.org/search/nsd/apa', 'https://sandiego.craigslist.org/search/esd/apa', 'https://sandiego.craigslist.org/search/csd/apa', 'https://sandiego.craigslist.org/search/ssd/apa']\n"
     ]
    }
   ],
   "source": [
    "urls = []\n",
    "urls.append(config.url_listings_northsd)\n",
    "urls.append(config.url_listings_eastsd)\n",
    "urls.append(config.url_lisings_cityofsd)\n",
    "urls.append(config.url_lisings_southsd)\n",
    "print(urls)"
   ]
  },
  {
   "cell_type": "code",
   "execution_count": 36,
   "metadata": {
    "tags": [
     "outputPrepend"
    ]
   },
   "outputs": [
    {
     "output_type": "stream",
     "name": "stdout",
     "text": [
      "a3b7aedc0c'), 'data_id': '7279274187', 'created_datetime': datetime.datetime(2021, 2, 22, 1, 51, 52, 354000), 'listing_title': '$500 MOVE IN MARCH 1st- Air conditioning, Vertical blinds, Carpet', 'listing_price': '$1,555', 'listing_url': 'https://sandiego.craigslist.org/nsd/apa/d/poway-500-move-in-march-1st-air/7279274187.html', 'listing_date': '2021-02-21 14:26', 'listing_addrcountry': 'US', 'listing_address': '13326 Community Road near Poway rd', 'listing_addrlocality': 'Poway', 'listing_addrregion': 'CA', 'listing_addrstreet': '13326 Community Road', 'listing_addrzip': '92074', 'listing_attributes': ['apartment', 'laundry on site', 'no smoking', 'off-street parking', 'rent period: monthly'], 'listing_availability': 'available mar 6', 'listing_bath': 1, 'listing_bed': '1', 'listing_bedbath': '1BR / 1Ba', 'listing_latitude': '32.957950', 'listing_longitude': '-117.040656', 'listing_petsallowed': '', 'listing_smokingallowed': 'False', 'listing_type': 'Apartment', 'listing_sqft': '600ft2', 'listing_datetime': '2021-02-21 14:26', 'listing_link': 'https://sandiego.craigslist.org/nsd/apa/d/poway-500-move-in-march-1st-air/7279274187.html', 'modified_datetime': datetime.datetime(2021, 2, 23, 1, 12, 43, 32000)}\n",
      "----------------------------------------\n",
      "Inserting new listing\n",
      "7279274491\n",
      "$500 off MOVE IN SPECIAL-Nearby Bus Line, Carpet, Ceiling Fan, Stove\n",
      "$1,555\n",
      "https://sandiego.craigslist.org/nsd/apa/d/poway-500-off-move-in-special-nearby/7279274491.html\n",
      "2021-02-21 14:26\n",
      "2021-02-23 01:20:54.555189\n",
      "Listing 7279274491 already exists, update existing listing!\n",
      "{'_id': ObjectId('60330e38566e11a3b7aedc0d'), 'data_id': '7279274491', 'created_datetime': datetime.datetime(2021, 2, 22, 1, 51, 52, 495000), 'listing_title': '$500 off MOVE IN SPECIAL-Nearby Bus Line, Carpet, Ceiling Fan, Stove', 'listing_price': '$1,555', 'listing_url': 'https://sandiego.craigslist.org/nsd/apa/d/poway-500-off-move-in-special-nearby/7279274491.html', 'listing_date': '2021-02-21 14:26', 'listing_addrcountry': 'US', 'listing_address': '13326 Community rd near Poway rd', 'listing_addrlocality': 'Poway', 'listing_addrregion': 'CA', 'listing_addrstreet': '13326 Community rd', 'listing_addrzip': '92074', 'listing_attributes': ['flooring: wood', 'apartment', 'laundry on site', 'no smoking', 'off-street parking', 'rent period: monthly'], 'listing_availability': 'available mar 5', 'listing_bath': 1, 'listing_bed': '1', 'listing_bedbath': '1BR / 1Ba', 'listing_latitude': '32.958338', 'listing_longitude': '-117.041495', 'listing_petsallowed': '', 'listing_smokingallowed': 'False', 'listing_type': 'Apartment', 'listing_sqft': '600ft2', 'listing_datetime': '2021-02-21 14:26', 'listing_link': 'https://sandiego.craigslist.org/nsd/apa/d/poway-500-off-move-in-special-nearby/7279274491.html', 'modified_datetime': datetime.datetime(2021, 2, 23, 1, 12, 43, 206000)}\n",
      "----------------------------------------\n",
      "Inserting new listing\n",
      "7279748459\n",
      "Life just got better!    A 55+ Community\n",
      "$1,312\n",
      "https://sandiego.craigslist.org/nsd/apa/d/escondido-life-just-got-better-55/7279748459.html\n",
      "2021-02-21 14:25\n",
      "2021-02-23 01:20:54.717754\n",
      "Listing 7279748459 already exists, update existing listing!\n",
      "{'_id': ObjectId('60330e38566e11a3b7aedc0e'), 'data_id': '7279748459', 'created_datetime': datetime.datetime(2021, 2, 22, 1, 51, 52, 634000), 'listing_title': 'Life just got better!    A 55+ Community', 'listing_price': '$1,312', 'listing_url': 'https://sandiego.craigslist.org/nsd/apa/d/escondido-life-just-got-better-55/7279748459.html', 'listing_date': '2021-02-21 14:25', 'listing_addrcountry': 'US', 'listing_address': '1045 Morning View Drive', 'listing_addrlocality': 'Escondido', 'listing_addrregion': 'CA', 'listing_addrstreet': '1045 Morning View Drive', 'listing_addrzip': '92033', 'listing_attributes': ['cats are OK - purrr', 'dogs are OK - wooof', 'apartment', 'laundry in bldg', 'carport'], 'listing_availability': 'available now', 'listing_bath': 1, 'listing_bed': '1', 'listing_bedbath': '1BR / 1Ba', 'listing_latitude': '33.132786', 'listing_longitude': '-117.095159', 'listing_petsallowed': 'True', 'listing_smokingallowed': '', 'listing_type': 'Apartment', 'listing_sqft': '668ft2', 'listing_datetime': '2021-02-21 14:25', 'listing_link': 'https://sandiego.craigslist.org/nsd/apa/d/escondido-life-just-got-better-55/7279748459.html', 'modified_datetime': datetime.datetime(2021, 2, 23, 1, 12, 43, 366000)}\n",
      "----------------------------------------\n",
      "Inserting new listing\n",
      "7279277341\n",
      "$1000 Move in Special-Gated Parking Lot and Entry, Newly UPDATED-BBQ\n",
      "$1,725\n",
      "https://sandiego.craigslist.org/nsd/apa/d/poway-1000-move-in-special-gated/7279277341.html\n",
      "2021-02-21 14:25\n",
      "2021-02-23 01:20:54.879322\n",
      "Listing 7279277341 already exists, update existing listing!\n",
      "{'_id': ObjectId('60330e38566e11a3b7aedc0f'), 'data_id': '7279277341', 'created_datetime': datetime.datetime(2021, 2, 22, 1, 51, 52, 774000), 'listing_title': '$1000 Move in Special-Gated Parking Lot and Entry, Newly UPDATED-BBQ', 'listing_price': '$1,725', 'listing_url': 'https://sandiego.craigslist.org/nsd/apa/d/poway-1000-move-in-special-gated/7279277341.html', 'listing_date': '2021-02-21 14:25', 'listing_addrcountry': 'US', 'listing_address': '13326 Community Road near Poway rd', 'listing_addrlocality': 'Poway', 'listing_addrregion': 'CA', 'listing_addrstreet': '13326 Community Road', 'listing_addrzip': '92074', 'listing_attributes': ['apartment', 'laundry on site', 'no smoking', 'off-street parking', 'rent period: monthly'], 'listing_availability': 'available feb 22', 'listing_bath': 1, 'listing_bed': '2', 'listing_bedbath': '2BR / 1Ba', 'listing_latitude': '32.957950', 'listing_longitude': '-117.040656', 'listing_petsallowed': '', 'listing_smokingallowed': 'False', 'listing_type': 'Apartment', 'listing_sqft': '800ft2', 'listing_datetime': '2021-02-21 14:25', 'listing_link': 'https://sandiego.craigslist.org/nsd/apa/d/poway-1000-move-in-special-gated/7279277341.html', 'modified_datetime': datetime.datetime(2021, 2, 23, 1, 12, 43, 528000)}\n",
      "----------------------------------------\n",
      "Inserting new listing\n",
      "7275100328\n",
      "Spacious Apt w/ Walk-in Closets & Pet Friendly!\n",
      "$2,199\n",
      "https://sandiego.craigslist.org/nsd/apa/d/oceanside-spacious-apt-walk-in-closets/7275100328.html\n",
      "2021-02-21 14:24\n",
      "2021-02-23 01:20:55.038895\n",
      "Listing 7275100328 already exists, update existing listing!\n",
      "{'_id': ObjectId('60330e38566e11a3b7aedc10'), 'data_id': '7275100328', 'created_datetime': datetime.datetime(2021, 2, 22, 1, 51, 52, 914000), 'listing_title': 'Spacious Apt w/ Walk-in Closets & Pet Friendly!', 'listing_price': '$2,199', 'listing_url': 'https://sandiego.craigslist.org/nsd/apa/d/oceanside-spacious-apt-walk-in-closets/7275100328.html', 'listing_date': '2021-02-21 14:24', 'listing_addrcountry': 'US', 'listing_address': '420 Activity Way', 'listing_addrlocality': 'Oceanside', 'listing_addrregion': 'CA', 'listing_addrstreet': '420 Activity Way', 'listing_addrzip': '92054', 'listing_attributes': ['cats are OK - purrr', 'dogs are OK - wooof', 'apartment', 'laundry on site', 'carport', 'wheelchair accessible'], 'listing_availability': 'available now', 'listing_bath': 2, 'listing_bed': '2', 'listing_bedbath': '2BR / 2Ba', 'listing_latitude': '33.207336', 'listing_longitude': '-117.368114', 'listing_petsallowed': 'True', 'listing_smokingallowed': '', 'listing_type': 'Apartment', 'listing_sqft': '935ft2', 'listing_datetime': '2021-02-21 14:24', 'listing_link': 'https://sandiego.craigslist.org/nsd/apa/d/oceanside-spacious-apt-walk-in-closets/7275100328.html', 'modified_datetime': datetime.datetime(2021, 2, 23, 1, 12, 43, 688000)}\n",
      "----------------------------------------\n",
      "Inserting new listing\n",
      "7277856563\n",
      "Polished quartz countertops, In-home washer and dryer, Elevator access\n",
      "$1,915\n",
      "https://sandiego.craigslist.org/nsd/apa/d/san-marcos-polished-quartz-countertops/7277856563.html\n",
      "2021-02-21 14:22\n",
      "2021-02-23 01:20:55.198468\n",
      "Listing 7277856563 already exists, update existing listing!\n",
      "{'_id': ObjectId('60330e39566e11a3b7aedc11'), 'data_id': '7277856563', 'created_datetime': datetime.datetime(2021, 2, 22, 1, 51, 53, 55000), 'listing_title': 'Polished quartz countertops, In-home washer and dryer, Elevator access', 'listing_price': '$1,915', 'listing_url': 'https://sandiego.craigslist.org/nsd/apa/d/san-marcos-polished-quartz-countertops/7277856563.html', 'listing_date': '2021-02-21 14:22', 'listing_addrcountry': 'US', 'listing_address': '1045 Amorlite Drive', 'listing_addrlocality': 'San Marcos', 'listing_addrregion': 'CA', 'listing_addrstreet': '1045 Amorlite Drive', 'listing_addrzip': '92079', 'listing_attributes': ['apartment', 'w/d in unit', 'carport'], 'listing_availability': 'available now', 'listing_bath': 1, 'listing_bed': '1', 'listing_bedbath': '1BR / 1Ba', 'listing_latitude': '33.144400', 'listing_longitude': '-117.169700', 'listing_petsallowed': '', 'listing_smokingallowed': '', 'listing_type': 'Apartment', 'listing_sqft': '749ft2', 'listing_datetime': '2021-02-21 14:22', 'listing_link': 'https://sandiego.craigslist.org/nsd/apa/d/san-marcos-polished-quartz-countertops/7277856563.html', 'modified_datetime': datetime.datetime(2021, 2, 23, 1, 12, 43, 857000)}\n",
      "----------------------------------------\n",
      "Inserting new listing\n",
      "7280816233\n",
      "Newly Renovated Spacious 2 bed/2 bath\n",
      "$1,950\n",
      "https://sandiego.craigslist.org/nsd/apa/d/oceanside-newly-renovated-spacious-bed/7280816233.html\n",
      "2021-02-21 14:21\n",
      "2021-02-23 01:20:55.362031\n",
      "Listing 7280816233 already exists, update existing listing!\n",
      "{'_id': ObjectId('60330e39566e11a3b7aedc12'), 'data_id': '7280816233', 'created_datetime': datetime.datetime(2021, 2, 22, 1, 51, 53, 195000), 'listing_title': 'Newly Renovated Spacious 2 bed/2 bath', 'listing_price': '$1,950', 'listing_url': 'https://sandiego.craigslist.org/nsd/apa/d/oceanside-newly-renovated-spacious-bed/7280816233.html', 'listing_date': '2021-02-21 14:21', 'listing_addrcountry': 'US', 'listing_addrlocality': 'Oceanside', 'listing_addrregion': 'CA', 'listing_addrstreet': '', 'listing_addrzip': '92057', 'listing_attributes': ['application fee details: 35', 'apartment', 'laundry on site', 'no smoking', 'carport'], 'listing_availability': '', 'listing_bath': 2, 'listing_bed': '2', 'listing_bedbath': '2BR / 2Ba', 'listing_latitude': '33.230438', 'listing_longitude': '-117.306023', 'listing_petsallowed': '', 'listing_smokingallowed': 'False', 'listing_type': 'Apartment', 'listing_sqft': '1000ft2', 'listing_datetime': '2021-02-21 14:21', 'listing_link': 'https://sandiego.craigslist.org/nsd/apa/d/oceanside-newly-renovated-spacious-bed/7280816233.html', 'modified_datetime': datetime.datetime(2021, 2, 23, 1, 12, 44, 20000)}\n",
      "----------------------------------------\n",
      "Inserting new listing\n",
      "7273753476\n",
      "2 Bed - 2 Bath Modern and Sleek Design, Beautiful Natural Lighting\n",
      "$2,495\n",
      "https://sandiego.craigslist.org/nsd/apa/d/escondido-bed-bath-modern-and-sleek/7273753476.html\n",
      "2021-02-21 14:19\n",
      "2021-02-23 01:20:55.525594\n",
      "Listing 7273753476 already exists, update existing listing!\n",
      "{'_id': ObjectId('60330e39566e11a3b7aedc13'), 'data_id': '7273753476', 'created_datetime': datetime.datetime(2021, 2, 22, 1, 51, 53, 334000), 'listing_title': '2 Bed - 2 Bath Modern and Sleek Design, Beautiful Natural Lighting', 'listing_price': '$2,495', 'listing_url': 'https://sandiego.craigslist.org/nsd/apa/d/escondido-bed-bath-modern-and-sleek/7273753476.html', 'listing_date': '2021-02-21 14:19', 'listing_addrcountry': 'US', 'listing_address': '2414 S Escondido Blvd', 'listing_addrlocality': 'Escondido', 'listing_addrregion': 'CA', 'listing_addrstreet': '2414 S Escondido Blvd', 'listing_addrzip': '92033', 'listing_attributes': ['cats are OK - purrr', 'dogs are OK - wooof', 'apartment', 'w/d in unit', 'no parking'], 'listing_availability': '', 'listing_bath': 2, 'listing_bed': '2', 'listing_bedbath': '2BR / 2Ba', 'listing_latitude': '33.092112', 'listing_longitude': '-117.071902', 'listing_petsallowed': 'True', 'listing_smokingallowed': '', 'listing_type': 'Apartment', 'listing_sqft': '1114ft2', 'listing_datetime': '2021-02-21 14:19', 'listing_link': 'https://sandiego.craigslist.org/nsd/apa/d/escondido-bed-bath-modern-and-sleek/7273753476.html', 'modified_datetime': datetime.datetime(2021, 2, 23, 1, 12, 44, 189000)}\n",
      "----------------------------------------\n",
      "Inserting new listing\n",
      "7279828200\n",
      "Move Into This Beautiful Coastal Home By This Weekend!\n",
      "$2,195\n",
      "https://sandiego.craigslist.org/nsd/apa/d/oceanside-move-into-this-beautiful/7279828200.html\n",
      "2021-02-21 14:14\n",
      "2021-02-23 01:20:55.683172\n",
      "Listing 7279828200 already exists, update existing listing!\n",
      "{'_id': ObjectId('60330e39566e11a3b7aedc14'), 'data_id': '7279828200', 'created_datetime': datetime.datetime(2021, 2, 22, 1, 51, 53, 475000), 'listing_title': 'Move Into This Beautiful Coastal Home By This Weekend!', 'listing_price': '$2,195', 'listing_url': 'https://sandiego.craigslist.org/nsd/apa/d/oceanside-move-into-this-beautiful/7279828200.html', 'listing_date': '2021-02-21 14:14', 'listing_addrcountry': 'US', 'listing_address': '420 Activity Way', 'listing_addrlocality': 'Oceanside', 'listing_addrregion': 'CA', 'listing_addrstreet': '420 Activity Way', 'listing_addrzip': '92054', 'listing_attributes': ['apartment', 'laundry on site', 'carport'], 'listing_availability': 'available now', 'listing_bath': 2, 'listing_bed': '2', 'listing_bedbath': '2BR / 2Ba', 'listing_latitude': '33.207336', 'listing_longitude': '-117.368114', 'listing_petsallowed': '', 'listing_smokingallowed': '', 'listing_type': 'Apartment', 'listing_sqft': '935ft2', 'listing_datetime': '2021-02-21 14:14', 'listing_link': 'https://sandiego.craigslist.org/nsd/apa/d/oceanside-move-into-this-beautiful/7279828200.html', 'modified_datetime': datetime.datetime(2021, 2, 23, 1, 12, 44, 348000)}\n",
      "----------------------------------------\n",
      "Inserting new listing\n",
      "7280812084\n",
      "1BED 1BATH GET A VIRTUAL PEEK AT A ROOMY HOME! HERE SOON!\n",
      "$1,780\n",
      "https://sandiego.craigslist.org/nsd/apa/d/vista-1bed-1bath-get-virtual-peek-at/7280812084.html\n",
      "2021-02-21 14:06\n",
      "2021-02-23 01:20:55.842746\n",
      "Listing 7280812084 already exists, update existing listing!\n",
      "{'_id': ObjectId('60330e39566e11a3b7aedc15'), 'data_id': '7280812084', 'created_datetime': datetime.datetime(2021, 2, 22, 1, 51, 53, 615000), 'listing_title': '1BED 1BATH GET A VIRTUAL PEEK AT A ROOMY HOME! HERE SOON!', 'listing_price': '$1,780', 'listing_url': 'https://sandiego.craigslist.org/nsd/apa/d/vista-1bed-1bath-get-virtual-peek-at/7280812084.html', 'listing_date': '2021-02-21 14:06', 'listing_addrcountry': 'US', 'listing_address': '1510 S. MELROSE', 'listing_addrlocality': 'Vista', 'listing_addrregion': 'CA', 'listing_addrstreet': '1510 S. MELROSE', 'listing_addrzip': '92081', 'listing_attributes': ['cats are OK - purrr', 'dogs are OK - wooof', 'apartment', 'laundry on site', 'carport'], 'listing_availability': 'available now', 'listing_bath': 1, 'listing_bed': '1', 'listing_bedbath': '1BR / 1Ba', 'listing_latitude': '33.166848', 'listing_longitude': '-117.247087', 'listing_petsallowed': 'True', 'listing_smokingallowed': '', 'listing_type': 'Apartment', 'listing_sqft': '', 'listing_datetime': '2021-02-21 14:06', 'listing_link': 'https://sandiego.craigslist.org/nsd/apa/d/vista-1bed-1bath-get-virtual-peek-at/7280812084.html', 'modified_datetime': datetime.datetime(2021, 2, 23, 1, 12, 44, 516000)}\n",
      "----------------------------------------\n",
      "Inserting new listing\n",
      "7270328619\n",
      "A unique fusion of convenience and luxury. Available now!\n",
      "$2,495\n",
      "https://sandiego.craigslist.org/nsd/apa/d/escondido-unique-fusion-of-convenience/7270328619.html\n",
      "2021-02-21 14:03\n",
      "2021-02-23 01:20:56.009300\n",
      "Listing 7270328619 already exists, update existing listing!\n",
      "{'_id': ObjectId('60330e39566e11a3b7aedc16'), 'data_id': '7270328619', 'created_datetime': datetime.datetime(2021, 2, 22, 1, 51, 53, 756000), 'listing_title': 'A unique fusion of convenience and luxury. Available now!', 'listing_price': '$2,495', 'listing_url': 'https://sandiego.craigslist.org/nsd/apa/d/escondido-unique-fusion-of-convenience/7270328619.html', 'listing_date': '2021-02-21 14:03', 'listing_addrcountry': 'US', 'listing_address': '650 North Centre City Parkway', 'listing_addrlocality': 'Escondido', 'listing_addrregion': 'CA', 'listing_addrstreet': '650 North Centre City Parkway', 'listing_addrzip': '92033', 'listing_attributes': ['cats are OK - purrr', 'dogs are OK - wooof', 'apartment', 'w/d in unit', 'no smoking', 'detached garage'], 'listing_availability': 'available now', 'listing_bath': 2, 'listing_bed': '2', 'listing_bedbath': '2BR / 2Ba', 'listing_latitude': '33.110100', 'listing_longitude': '-117.070000', 'listing_petsallowed': 'True', 'listing_smokingallowed': 'False', 'listing_type': 'Apartment', 'listing_sqft': '1142ft2', 'listing_datetime': '2021-02-21 14:03', 'listing_link': 'https://sandiego.craigslist.org/nsd/apa/d/escondido-unique-fusion-of-convenience/7270328619.html', 'modified_datetime': datetime.datetime(2021, 2, 23, 1, 12, 44, 679000)}\n",
      "----------------------------------------\n",
      "Inserting new listing\n",
      "7275053606\n",
      "2/bd 2/ba, Sports court, In-home washer and dryer\n",
      "$2,029\n",
      "https://sandiego.craigslist.org/nsd/apa/d/oceanside-bd-ba-sports-court-in-home/7275053606.html\n",
      "2021-02-21 14:03\n",
      "2021-02-23 01:20:56.172863\n",
      "Listing 7275053606 already exists, update existing listing!\n",
      "{'_id': ObjectId('60330e39566e11a3b7aedc17'), 'data_id': '7275053606', 'created_datetime': datetime.datetime(2021, 2, 22, 1, 51, 53, 896000), 'listing_title': '2/bd 2/ba, Sports court, In-home washer and dryer', 'listing_price': '$2,029', 'listing_url': 'https://sandiego.craigslist.org/nsd/apa/d/oceanside-bd-ba-sports-court-in-home/7275053606.html', 'listing_date': '2021-02-21 14:03', 'listing_addrcountry': 'US', 'listing_address': '333 Emerald Dr', 'listing_addrlocality': 'Oceanside', 'listing_addrregion': 'CA', 'listing_addrstreet': '333 Emerald Dr', 'listing_addrzip': '92056', 'listing_attributes': ['apartment', 'w/d in unit', 'carport'], 'listing_availability': 'available now', 'listing_bath': 2, 'listing_bed': '2', 'listing_bedbath': '2BR / 2Ba', 'listing_latitude': '33.192833', 'listing_longitude': '-117.279512', 'listing_petsallowed': '', 'listing_smokingallowed': '', 'listing_type': 'Apartment', 'listing_sqft': '940ft2', 'listing_datetime': '2021-02-21 14:03', 'listing_link': 'https://sandiego.craigslist.org/nsd/apa/d/oceanside-bd-ba-sports-court-in-home/7275053606.html', 'modified_datetime': datetime.datetime(2021, 2, 23, 1, 12, 44, 842000)}\n",
      "----------------------------------------\n",
      "Inserting new listing\n",
      "7280803282\n",
      "2 BED 2.5 BATH 3 STORY TOWNHOME! CALL FOR DETAILS!\n",
      "$2,865\n",
      "https://sandiego.craigslist.org/nsd/apa/d/oceanside-bed-25-bath-story-townhome/7280803282.html\n",
      "2021-02-21 14:00\n",
      "2021-02-23 01:20:56.350388\n",
      "Listing 7280803282 already exists, update existing listing!\n",
      "{'_id': ObjectId('60330e3a566e11a3b7aedc18'), 'data_id': '7280803282', 'created_datetime': datetime.datetime(2021, 2, 22, 1, 51, 54, 36000), 'listing_title': '2 BED 2.5 BATH 3 STORY TOWNHOME! CALL FOR DETAILS!', 'listing_price': '$2,865', 'listing_url': 'https://sandiego.craigslist.org/nsd/apa/d/oceanside-bed-25-bath-story-townhome/7280803282.html', 'listing_date': '2021-02-21 14:00', 'listing_addrcountry': 'US', 'listing_address': '3402 PIAZZA DE ORO WAY near VISTA WAY', 'listing_addrlocality': 'Oceanside', 'listing_addrregion': 'CA', 'listing_addrstreet': '3402 PIAZZA DE ORO WAY', 'listing_addrzip': '92056', 'listing_attributes': ['cats are OK - purrr', 'dogs are OK - wooof', 'apartment', 'w/d in unit', 'attached garage'], 'listing_availability': 'available mar 27', 'listing_bath': 3, 'listing_bed': '2', 'listing_bedbath': '2BR / 2.5Ba', 'listing_latitude': '33.196800', 'listing_longitude': '-117.283100', 'listing_petsallowed': 'True', 'listing_smokingallowed': '', 'listing_type': 'Apartment', 'listing_sqft': '1570ft2', 'listing_datetime': '2021-02-21 14:00', 'listing_link': 'https://sandiego.craigslist.org/nsd/apa/d/oceanside-bed-25-bath-story-townhome/7280803282.html', 'modified_datetime': datetime.datetime(2021, 2, 23, 1, 12, 45, 23000)}\n"
     ]
    },
    {
     "output_type": "error",
     "ename": "AttributeError",
     "evalue": "'NoneType' object has no attribute 'text'",
     "traceback": [
      "\u001b[1;31m---------------------------------------------------------------------------\u001b[0m",
      "\u001b[1;31mAttributeError\u001b[0m                            Traceback (most recent call last)",
      "\u001b[1;32m<ipython-input-36-3c69c8be1340>\u001b[0m in \u001b[0;36m<module>\u001b[1;34m\u001b[0m\n\u001b[0;32m      7\u001b[0m         \u001b[0mresults\u001b[0m \u001b[1;33m=\u001b[0m \u001b[0msoup\u001b[0m\u001b[1;33m.\u001b[0m\u001b[0mfind_all\u001b[0m\u001b[1;33m(\u001b[0m\u001b[1;34m'li'\u001b[0m\u001b[1;33m,\u001b[0m \u001b[0mclass_\u001b[0m\u001b[1;33m=\u001b[0m\u001b[1;34m'result-row'\u001b[0m\u001b[1;33m)\u001b[0m\u001b[1;33m\u001b[0m\u001b[1;33m\u001b[0m\u001b[0m\n\u001b[0;32m      8\u001b[0m         \u001b[1;32mfor\u001b[0m \u001b[0mresult\u001b[0m \u001b[1;32min\u001b[0m \u001b[0mresults\u001b[0m\u001b[1;33m:\u001b[0m\u001b[1;33m\u001b[0m\u001b[1;33m\u001b[0m\u001b[0m\n\u001b[1;32m----> 9\u001b[1;33m             \u001b[0mmy_parser\u001b[0m\u001b[1;33m.\u001b[0m\u001b[0minsert_listing\u001b[0m\u001b[1;33m(\u001b[0m\u001b[0mresult\u001b[0m\u001b[1;33m)\u001b[0m\u001b[1;33m\u001b[0m\u001b[1;33m\u001b[0m\u001b[0m\n\u001b[0m\u001b[0;32m     10\u001b[0m \u001b[1;33m\u001b[0m\u001b[0m\n",
      "\u001b[1;32mc:\\Users\\Ben Galde\\workspace\\etl-project\\src\\cl_parser.py\u001b[0m in \u001b[0;36minsert_listing\u001b[1;34m(self, result)\u001b[0m\n\u001b[0;32m     43\u001b[0m         \u001b[0mdata_id\u001b[0m \u001b[1;33m=\u001b[0m \u001b[0mresult\u001b[0m\u001b[1;33m.\u001b[0m\u001b[0mh3\u001b[0m\u001b[1;33m.\u001b[0m\u001b[0ma\u001b[0m\u001b[1;33m[\u001b[0m\u001b[1;34m'data-id'\u001b[0m\u001b[1;33m]\u001b[0m\u001b[1;33m\u001b[0m\u001b[1;33m\u001b[0m\u001b[0m\n\u001b[0;32m     44\u001b[0m         \u001b[0mlisting_title\u001b[0m \u001b[1;33m=\u001b[0m \u001b[0mresult\u001b[0m\u001b[1;33m.\u001b[0m\u001b[0mfind\u001b[0m\u001b[1;33m(\u001b[0m\u001b[1;34m'a'\u001b[0m\u001b[1;33m,\u001b[0m \u001b[0mclass_\u001b[0m\u001b[1;33m=\u001b[0m\u001b[1;34m'result-title'\u001b[0m\u001b[1;33m)\u001b[0m\u001b[1;33m.\u001b[0m\u001b[0mtext\u001b[0m\u001b[1;33m\u001b[0m\u001b[1;33m\u001b[0m\u001b[0m\n\u001b[1;32m---> 45\u001b[1;33m         \u001b[0mlisting_price\u001b[0m \u001b[1;33m=\u001b[0m \u001b[0mresult\u001b[0m\u001b[1;33m.\u001b[0m\u001b[0ma\u001b[0m\u001b[1;33m.\u001b[0m\u001b[0mspan\u001b[0m\u001b[1;33m.\u001b[0m\u001b[0mtext\u001b[0m\u001b[1;33m\u001b[0m\u001b[1;33m\u001b[0m\u001b[0m\n\u001b[0m\u001b[0;32m     46\u001b[0m         \u001b[0mlisting_url\u001b[0m \u001b[1;33m=\u001b[0m \u001b[0mresult\u001b[0m\u001b[1;33m.\u001b[0m\u001b[0ma\u001b[0m\u001b[1;33m[\u001b[0m\u001b[1;34m'href'\u001b[0m\u001b[1;33m]\u001b[0m\u001b[1;33m\u001b[0m\u001b[1;33m\u001b[0m\u001b[0m\n\u001b[0;32m     47\u001b[0m         \u001b[0mlisting_datetime\u001b[0m \u001b[1;33m=\u001b[0m \u001b[0mresult\u001b[0m\u001b[1;33m.\u001b[0m\u001b[0mtime\u001b[0m\u001b[1;33m[\u001b[0m\u001b[1;34m'datetime'\u001b[0m\u001b[1;33m]\u001b[0m\u001b[1;33m\u001b[0m\u001b[1;33m\u001b[0m\u001b[0m\n",
      "\u001b[1;31mAttributeError\u001b[0m: 'NoneType' object has no attribute 'text'"
     ]
    }
   ],
   "source": [
    "# saved page one of results locally for temp solution to build out scripts/functions\n",
    "if config.test:\n",
    "    filepath = os.path.join('..','resources','cl_sandiego_northcounty_apa.html')\n",
    "    with open(filepath, encoding='utf-8') as file:\n",
    "        html = file.read()\n",
    "        soup = BeautifulSoup(html)\n",
    "        results = soup.find_all('li', class_='result-row')\n",
    "        for result in results:\n",
    "            my_parser.insert_listing(result)      \n",
    "            "
   ]
  },
  {
   "cell_type": "code",
   "execution_count": null,
   "metadata": {
    "tags": []
   },
   "outputs": [],
   "source": [
    "# iterate through the list of URLs, return each region listing and then run through the pages\n",
    "if not config.test:\n",
    "    for url in urls:\n",
    "        browser.visit(url)\n",
    "\n",
    "        # Iterate through all pages\n",
    "        for x in range(1):\n",
    "            # HTML object\n",
    "            html_listings = browser.html\n",
    "            # Parse HTML with Beautiful Soup\n",
    "            soup_listings = BeautifulSoup(html_listings, 'html.parser')\n",
    "            # Retrieve all elements that contain book information\n",
    "            soup_listings = BeautifulSoup(html_listings)\n",
    "\n",
    "            results = soup_listings.find_all('li', class_='result-row')\n",
    "\n",
    "            # Loop through returned results\n",
    "            for result in results:\n",
    "                try:\n",
    "                    my_parser.insert_listing(result)                                                                  \n",
    "                except Exception as e:\n",
    "                    print(e)        \n",
    "            try:\n",
    "                browser.links.find_by_partial_text('next').click()          \n",
    "            except:\n",
    "                print(\"Scraping Complete\")\n",
    "                break"
   ]
  },
  {
   "cell_type": "code",
   "execution_count": null,
   "metadata": {},
   "outputs": [],
   "source": []
  },
  {
   "cell_type": "code",
   "execution_count": null,
   "metadata": {},
   "outputs": [],
   "source": []
  }
 ]
}