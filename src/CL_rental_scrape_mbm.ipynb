{
 "metadata": {
  "language_info": {
   "codemirror_mode": {
    "name": "ipython",
    "version": 3
   },
   "file_extension": ".py",
   "mimetype": "text/x-python",
   "name": "python",
   "nbconvert_exporter": "python",
   "pygments_lexer": "ipython3",
   "version": "3.8.5-final"
  },
  "orig_nbformat": 2,
  "kernelspec": {
   "name": "python3",
   "display_name": "Python 3.8.5 64-bit (conda)",
   "metadata": {
    "interpreter": {
     "hash": "081b6216928d55ece203d92fdcd5214719477f63e022b6b86f3f62fef0361037"
    }
   }
  }
 },
 "nbformat": 4,
 "nbformat_minor": 2,
 "cells": [
  {
   "cell_type": "code",
   "execution_count": 1,
   "metadata": {},
   "outputs": [],
   "source": [
    "%load_ext autoreload\n",
    "%autoreload 2"
   ]
  },
  {
   "cell_type": "code",
   "execution_count": 2,
   "metadata": {},
   "outputs": [],
   "source": [
    "# Dependencies\n",
    "from bs4 import BeautifulSoup\n",
    "import requests\n",
    "import pymongo\n",
    "import dns\n",
    "import datetime\n",
    "from time import sleep\n",
    "import random\n",
    "import json\n",
    "\n",
    "from splinter import Browser\n",
    "from webdriver_manager.chrome import ChromeDriverManager\n",
    "\n",
    "# Project defined dependencies\n",
    "import config\n",
    "from pprint import pprint\n",
    "import cl_parser\n"
   ]
  },
  {
   "cell_type": "code",
   "execution_count": 3,
   "metadata": {},
   "outputs": [],
   "source": [
    "# Create the craiglist parser\n",
    "my_parser = cl_parser.Parser() "
   ]
  },
  {
   "cell_type": "code",
   "execution_count": 70,
   "metadata": {
    "tags": []
   },
   "outputs": [
    {
     "output_type": "stream",
     "name": "stdout",
     "text": [
      "7278244211\n"
     ]
    }
   ],
   "source": [
    "for listing in my_parser.listings_collection.find():\n",
    "    print(listing['data_id'])\n",
    "    break\n"
   ]
  },
  {
   "cell_type": "code",
   "execution_count": 7,
   "metadata": {},
   "outputs": [
    {
     "output_type": "execute_result",
     "data": {
      "text/plain": [
       "9069"
      ]
     },
     "metadata": {},
     "execution_count": 7
    }
   ],
   "source": [
    "my_parser.listings_collection.find().count()    "
   ]
  },
  {
   "cell_type": "code",
   "execution_count": 9,
   "metadata": {},
   "outputs": [
    {
     "output_type": "stream",
     "name": "stdout",
     "text": [
      "{'_id': ObjectId('60330e42566e11a3b7aedc54'),\n 'created_datetime': datetime.datetime(2021, 2, 22, 1, 52, 2, 943000),\n 'data_id': '7280736862',\n 'listing_addrcountry': 'US',\n 'listing_address': '2051 Geneva St',\n 'listing_addrlocality': 'Vista',\n 'listing_addrregion': 'CA',\n 'listing_addrstreet': '740 Paseo Buena Vista',\n 'listing_addrzip': '92085',\n 'listing_attributes': ['EV charging',\n                        'cats are OK - purrr',\n                        'dogs are OK - wooof',\n                        'apartment',\n                        'w/d in unit',\n                        'no smoking',\n                        'detached garage'],\n 'listing_availability': 'available now',\n 'listing_bath': 1,\n 'listing_bed': '1',\n 'listing_bedbath': '1BR / 1Ba',\n 'listing_datetime': '2021-02-21 11:42',\n 'listing_latitude': '33.208926',\n 'listing_longitude': '-117.234635',\n 'listing_petsallowed': 'True',\n 'listing_price': '$1,995',\n 'listing_smokingallowed': 'False',\n 'listing_sqft': '732ft2',\n 'listing_title': 'Strike While the Iron is Hot! 6-Weeks FREE!',\n 'listing_type': 'Apartment',\n 'listing_url': 'https://sandiego.craigslist.org/nsd/apa/d/vista-strike-while-the-iron-is-hot/7280736862.html',\n 'modified_datetime': datetime.datetime(2021, 2, 22, 9, 25, 50, 475000)}\n"
     ]
    }
   ],
   "source": [
    "find_result = my_parser.listings_collection.find_one({'data_id': '7280736862'})\n",
    "pprint(find_result)"
   ]
  },
  {
   "cell_type": "code",
   "execution_count": 6,
   "metadata": {},
   "outputs": [
    {
     "output_type": "execute_result",
     "data": {
      "text/plain": [
       "9069"
      ]
     },
     "metadata": {},
     "execution_count": 6
    }
   ],
   "source": [
    "my_parser.listings_collection.find().count()    "
   ]
  },
  {
   "cell_type": "code",
   "execution_count": 8,
   "metadata": {},
   "outputs": [
    {
     "output_type": "stream",
     "name": "stdout",
     "text": [
      "{'_id': ObjectId('60330e42566e11a3b7aedc54'), 'data_id': '7280736862', 'created_datetime': datetime.datetime(2021, 2, 22, 1, 52, 2, 943000), 'listing_title': 'Strike While the Iron is Hot! 6-Weeks FREE!', 'listing_price': '$1,995', 'listing_url': 'https://sandiego.craigslist.org/nsd/apa/d/vista-strike-while-the-iron-is-hot/7280736862.html', 'listing_address': '2051 Geneva St', 'listing_attributes': ['EV charging', 'cats are OK - purrr', 'dogs are OK - wooof', 'apartment', 'w/d in unit', 'no smoking', 'detached garage'], 'listing_availability': 'available now', 'listing_bedbath': '1BR / 1Ba', 'listing_latitude': '33.208926', 'listing_longitude': '-117.234635', 'listing_addrcountry': 'US', 'listing_addrlocality': 'Vista', 'listing_addrregion': 'CA', 'listing_addrstreet': '740 Paseo Buena Vista', 'listing_addrzip': '92085', 'listing_bath': 1, 'listing_bed': '1', 'listing_petsallowed': 'True', 'listing_smokingallowed': 'False', 'listing_type': 'Apartment', 'listing_sqft': '732ft2', 'listing_datetime': '2021-02-21 11:42', 'modified_datetime': datetime.datetime(2021, 2, 22, 9, 25, 50, 475000)}\n"
     ]
    }
   ],
   "source": [
    "find_result = my_parser.listings_collection.find_one({'data_id': '7280736862'})\n",
    "print(find_result)"
   ]
  },
  {
   "cell_type": "code",
   "execution_count": 10,
   "metadata": {},
   "outputs": [
    {
     "output_type": "stream",
     "name": "stderr",
     "text": [
      "[WDM] - ====== WebDriver manager ======\n",
      "[WDM] - Current google-chrome version is 88.0.4324\n",
      "[WDM] - Get LATEST driver version for 88.0.4324\n",
      "[WDM] - Driver [C:\\Users\\melis\\.wdm\\drivers\\chromedriver\\win32\\88.0.4324.96\\chromedriver.exe] found in cache\n",
      "\n",
      "\n"
     ]
    }
   ],
   "source": [
    "executable_path = {'executable_path': ChromeDriverManager().install()}\n",
    "browser = Browser('chrome', **executable_path, headless=False)"
   ]
  },
  {
   "cell_type": "code",
   "execution_count": null,
   "metadata": {},
   "outputs": [],
   "source": [
    "# iterate through the list of URLs, return each region listing and then run through the pages\n",
    "if not config.test:\n",
    "    for url in urls:\n",
    "        browser.visit(url)\n",
    "\n",
    "        # Iterate through all pages\n",
    "        for x in range(config.url_page_range):\n",
    "            # HTML object\n",
    "            html_listings = browser.html\n",
    "            # Parse HTML with Beautiful Soup\n",
    "            soup_listings = BeautifulSoup(html_listings, 'html.parser')\n",
    "            # Retrieve all elements that contain book information\n",
    "            soup_listings = BeautifulSoup(html_listings)\n",
    "\n",
    "            results = soup_listings.find_all('li', class_='result-row')\n",
    "\n",
    "            # Loop through returned results\n",
    "            for result in results:\n",
    "                try:\n",
    "                    my_parser.insert_listing(result)                                                                  \n",
    "                except Exception as e:\n",
    "                    print(e)        \n",
    "            try:\n",
    "                browser.links.find_by_partial_text('next').click()          \n",
    "            except:\n",
    "                print(\"Scraping Complete\")\n",
    "                break"
   ]
  },
  {
   "cell_type": "code",
   "execution_count": 9,
   "metadata": {
    "tags": []
   },
   "outputs": [
    {
     "output_type": "stream",
     "name": "stdout",
     "text": [
      "Index 0 Updating listing details data_id 7276972656\n"
     ]
    },
    {
     "output_type": "error",
     "ename": "NameError",
     "evalue": "name 'browser' is not defined",
     "traceback": [
      "\u001b[1;31m---------------------------------------------------------------------------\u001b[0m",
      "\u001b[1;31mNameError\u001b[0m                                 Traceback (most recent call last)",
      "\u001b[1;32m<ipython-input-9-11d062f1aba8>\u001b[0m in \u001b[0;36m<module>\u001b[1;34m\u001b[0m\n\u001b[0;32m     10\u001b[0m     \u001b[1;32mif\u001b[0m \u001b[1;33m(\u001b[0m\u001b[0murl_details\u001b[0m \u001b[1;33m!=\u001b[0m \u001b[1;34m''\u001b[0m\u001b[1;33m)\u001b[0m\u001b[1;33m:\u001b[0m\u001b[1;33m\u001b[0m\u001b[1;33m\u001b[0m\u001b[0m\n\u001b[0;32m     11\u001b[0m         \u001b[0msleep\u001b[0m\u001b[1;33m(\u001b[0m\u001b[0mrandom\u001b[0m\u001b[1;33m.\u001b[0m\u001b[0mrandint\u001b[0m\u001b[1;33m(\u001b[0m\u001b[1;36m1\u001b[0m\u001b[1;33m,\u001b[0m\u001b[1;36m3\u001b[0m\u001b[1;33m)\u001b[0m\u001b[1;33m)\u001b[0m\u001b[1;33m\u001b[0m\u001b[1;33m\u001b[0m\u001b[0m\n\u001b[1;32m---> 12\u001b[1;33m         \u001b[0mbrowser\u001b[0m\u001b[1;33m.\u001b[0m\u001b[0mvisit\u001b[0m\u001b[1;33m(\u001b[0m\u001b[0murl_details\u001b[0m\u001b[1;33m)\u001b[0m\u001b[1;33m\u001b[0m\u001b[1;33m\u001b[0m\u001b[0m\n\u001b[0m\u001b[0;32m     13\u001b[0m         \u001b[0mhtml_details\u001b[0m \u001b[1;33m=\u001b[0m \u001b[0mbrowser\u001b[0m\u001b[1;33m.\u001b[0m\u001b[0mhtml\u001b[0m\u001b[1;33m\u001b[0m\u001b[1;33m\u001b[0m\u001b[0m\n\u001b[0;32m     14\u001b[0m \u001b[1;33m\u001b[0m\u001b[0m\n",
      "\u001b[1;31mNameError\u001b[0m: name 'browser' is not defined"
     ]
    }
   ],
   "source": [
    "x = 0\n",
    "\n",
    "for l in my_parser.listings_collection.find({'listing_addrzip':{\"$exists\":False}}):        \n",
    "  \n",
    "    data_id = l['data_id']\n",
    "    url_details = l['listing_url']\n",
    "    \n",
    "    print('Index ' + str(x) + ' Updating listing details data_id ' + data_id)\n",
    "\n",
    "    if (url_details != ''):\n",
    "        sleep(random.randint(1,3))\n",
    "        browser.visit(url_details)\n",
    "        html_details = browser.html\n",
    "        \n",
    "        soup_details = BeautifulSoup(html_details)\n",
    "        # if soup_details.find('div',class_='removed') == 'None':            \n",
    "        try:\n",
    "            my_parser.insert_listing_details(soup_details, data_id)\n",
    "        except Exception as e:               \n",
    "            print(e)                  \n",
    "    x += 1\n",
    "    #if x > 200:            \n",
    "    #    print('Scrape Completed')\n",
    "    #    break\n",
    "\n",
    "          \n",
    "        \n"
   ]
  },
  {
   "cell_type": "code",
   "execution_count": null,
   "metadata": {},
   "outputs": [],
   "source": []
  },
  {
   "cell_type": "code",
   "execution_count": null,
   "metadata": {},
   "outputs": [],
   "source": []
  },
  {
   "cell_type": "code",
   "execution_count": null,
   "metadata": {},
   "outputs": [],
   "source": []
  }
 ]
}