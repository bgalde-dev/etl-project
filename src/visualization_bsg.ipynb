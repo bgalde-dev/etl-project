{
 "metadata": {
  "language_info": {
   "codemirror_mode": {
    "name": "ipython",
    "version": 3
   },
   "file_extension": ".py",
   "mimetype": "text/x-python",
   "name": "python",
   "nbconvert_exporter": "python",
   "pygments_lexer": "ipython3",
   "version": "3.8.5"
  },
  "orig_nbformat": 2,
  "kernelspec": {
   "name": "python3",
   "display_name": "Python 3.8.5 64-bit ('base': conda)",
   "metadata": {
    "interpreter": {
     "hash": "e04390b745d7540077d5afc7ea9b350ff3db0922faee759c3145cf85f5ee4c0c"
    }
   }
  }
 },
 "nbformat": 4,
 "nbformat_minor": 2,
 "cells": [
  {
   "cell_type": "code",
   "execution_count": 26,
   "metadata": {},
   "outputs": [],
   "source": [
    "import pymongo \n",
    "import pandas as pd\n",
    "import numpy as np\n",
    "import config"
   ]
  },
  {
   "cell_type": "code",
   "execution_count": 27,
   "metadata": {},
   "outputs": [],
   "source": [
    "# Connect with the portnumber and host  \n",
    "client = pymongo.MongoClient(config.mongo_conn)  \n",
    "    \n",
    "# Access database  \n",
    "cl_db = client['craigslist_db']  \n",
    "    \n",
    "# Access collection of the database  \n",
    "cl_collection = cl_db['listings']  "
   ]
  },
  {
   "cell_type": "code",
   "execution_count": 37,
   "metadata": {},
   "outputs": [
    {
     "output_type": "execute_result",
     "data": {
      "text/plain": [
       "        type  count\n",
       "0      House    530\n",
       "1      Place      2\n",
       "2  Apartment   7404\n",
       "3       None     43"
      ],
      "text/html": "<div>\n<style scoped>\n    .dataframe tbody tr th:only-of-type {\n        vertical-align: middle;\n    }\n\n    .dataframe tbody tr th {\n        vertical-align: top;\n    }\n\n    .dataframe thead th {\n        text-align: right;\n    }\n</style>\n<table border=\"1\" class=\"dataframe\">\n  <thead>\n    <tr style=\"text-align: right;\">\n      <th></th>\n      <th>type</th>\n      <th>count</th>\n    </tr>\n  </thead>\n  <tbody>\n    <tr>\n      <th>0</th>\n      <td>House</td>\n      <td>530</td>\n    </tr>\n    <tr>\n      <th>1</th>\n      <td>Place</td>\n      <td>2</td>\n    </tr>\n    <tr>\n      <th>2</th>\n      <td>Apartment</td>\n      <td>7404</td>\n    </tr>\n    <tr>\n      <th>3</th>\n      <td>None</td>\n      <td>43</td>\n    </tr>\n  </tbody>\n</table>\n</div>"
     },
     "metadata": {},
     "execution_count": 37
    }
   ],
   "source": [
    "# Number of each type\n",
    "agg_result = cl_collection.aggregate( \n",
    "    [{ \n",
    "    \"$group\" :  \n",
    "        {\"_id\" : \"$listing_type\",  \n",
    "         \"Count\" : {\"$sum\" : 1} \n",
    "         }} \n",
    "    ]) \n",
    "\n",
    "cl_df = pd.DataFrame(list(agg_result))\n",
    "cl_df.columns = ['type', 'count']\n",
    "cl_df"
   ]
  },
  {
   "cell_type": "code",
   "execution_count": 43,
   "metadata": {},
   "outputs": [
    {
     "output_type": "execute_result",
     "data": {
      "text/plain": [
       "       price  average\n",
       "0     $2,195      1.0\n",
       "1     $2,354      1.0\n",
       "2     $1,437      1.0\n",
       "3     $2,125      1.0\n",
       "4     $2,518      1.0\n",
       "...      ...      ...\n",
       "1072  $5,290      1.0\n",
       "1073  $2,380      1.0\n",
       "1074  $1,325      1.0\n",
       "1075  $2,245      1.0\n",
       "1076  $2,064      1.0\n",
       "\n",
       "[1077 rows x 2 columns]"
      ],
      "text/html": "<div>\n<style scoped>\n    .dataframe tbody tr th:only-of-type {\n        vertical-align: middle;\n    }\n\n    .dataframe tbody tr th {\n        vertical-align: top;\n    }\n\n    .dataframe thead th {\n        text-align: right;\n    }\n</style>\n<table border=\"1\" class=\"dataframe\">\n  <thead>\n    <tr style=\"text-align: right;\">\n      <th></th>\n      <th>price</th>\n      <th>average</th>\n    </tr>\n  </thead>\n  <tbody>\n    <tr>\n      <th>0</th>\n      <td>$2,195</td>\n      <td>1.0</td>\n    </tr>\n    <tr>\n      <th>1</th>\n      <td>$2,354</td>\n      <td>1.0</td>\n    </tr>\n    <tr>\n      <th>2</th>\n      <td>$1,437</td>\n      <td>1.0</td>\n    </tr>\n    <tr>\n      <th>3</th>\n      <td>$2,125</td>\n      <td>1.0</td>\n    </tr>\n    <tr>\n      <th>4</th>\n      <td>$2,518</td>\n      <td>1.0</td>\n    </tr>\n    <tr>\n      <th>...</th>\n      <td>...</td>\n      <td>...</td>\n    </tr>\n    <tr>\n      <th>1072</th>\n      <td>$5,290</td>\n      <td>1.0</td>\n    </tr>\n    <tr>\n      <th>1073</th>\n      <td>$2,380</td>\n      <td>1.0</td>\n    </tr>\n    <tr>\n      <th>1074</th>\n      <td>$1,325</td>\n      <td>1.0</td>\n    </tr>\n    <tr>\n      <th>1075</th>\n      <td>$2,245</td>\n      <td>1.0</td>\n    </tr>\n    <tr>\n      <th>1076</th>\n      <td>$2,064</td>\n      <td>1.0</td>\n    </tr>\n  </tbody>\n</table>\n<p>1077 rows × 2 columns</p>\n</div>"
     },
     "metadata": {},
     "execution_count": 43
    }
   ],
   "source": [
    "# Number of each type\n",
    "agg_result = cl_collection.aggregate( \n",
    "    [{ \n",
    "    \"$group\" :  \n",
    "        {\"_id\" : \"$listing_price\",  \n",
    "         \"Count\" : {\"$avg\" : 1} \n",
    "         }} \n",
    "    ]) \n",
    "\n",
    "cl_df = pd.DataFrame(list(agg_result))\n",
    "cl_df.columns = ['price', 'average']\n",
    "cl_df"
   ]
  },
  {
   "cell_type": "code",
   "execution_count": 40,
   "metadata": {},
   "outputs": [
    {
     "output_type": "execute_result",
     "data": {
      "text/plain": [
       "          bed bath  count\n",
       "0        7BR / 5Ba      1\n",
       "1      1BR / 1.5Ba     31\n",
       "2      2BR / 1.5Ba    117\n",
       "3             None     43\n",
       "4      4BR / 3.5Ba      3\n",
       "5      5BR / 3.5Ba      1\n",
       "6        6BR / 4Ba      2\n",
       "7   0BR / sharedBa      7\n",
       "8        5BR / 4Ba      1\n",
       "9        1BR / 2Ba      4\n",
       "10       2BR / 3Ba      3\n",
       "11       2BR / 1Ba    965\n",
       "12     0BR / 1.5Ba      2\n",
       "13       3BR / 3Ba     55\n",
       "14   0BR / splitBa      1\n",
       "15       2BR / 2Ba   1951\n",
       "16       5BR / 3Ba      7\n",
       "17       6BR / 7Ba      2\n",
       "18       6BR / 2Ba      1\n",
       "19     6BR / 6.5Ba      1\n",
       "20       6BR / 5Ba      1\n",
       "21       3BR / 1Ba     16\n",
       "22       0BR / 2Ba      3\n",
       "23       4BR / 2Ba     46\n",
       "24       6BR / 3Ba      3\n",
       "25       7BR / 6Ba      1\n",
       "26       4BR / 3Ba     18\n",
       "27       3BR / 4Ba      1\n",
       "28       4BR / 4Ba      3\n",
       "29     7BR / 3.5Ba      1\n",
       "30       3BR / 2Ba    415\n",
       "31       1BR / 1Ba   3437\n",
       "32      8BR / 9+Ba      2\n",
       "33     3BR / 2.5Ba     85\n",
       "34     4BR / 2.5Ba     18\n",
       "35     4BR / 4.5Ba      1\n",
       "36     3BR / 3.5Ba     18\n",
       "37     2BR / 2.5Ba     91\n",
       "38  1BR / sharedBa      6\n",
       "39       7BR / 4Ba      1\n",
       "40       0BR / 1Ba    589\n",
       "41     3BR / 1.5Ba     25"
      ],
      "text/html": "<div>\n<style scoped>\n    .dataframe tbody tr th:only-of-type {\n        vertical-align: middle;\n    }\n\n    .dataframe tbody tr th {\n        vertical-align: top;\n    }\n\n    .dataframe thead th {\n        text-align: right;\n    }\n</style>\n<table border=\"1\" class=\"dataframe\">\n  <thead>\n    <tr style=\"text-align: right;\">\n      <th></th>\n      <th>bed bath</th>\n      <th>count</th>\n    </tr>\n  </thead>\n  <tbody>\n    <tr>\n      <th>0</th>\n      <td>7BR / 5Ba</td>\n      <td>1</td>\n    </tr>\n    <tr>\n      <th>1</th>\n      <td>1BR / 1.5Ba</td>\n      <td>31</td>\n    </tr>\n    <tr>\n      <th>2</th>\n      <td>2BR / 1.5Ba</td>\n      <td>117</td>\n    </tr>\n    <tr>\n      <th>3</th>\n      <td>None</td>\n      <td>43</td>\n    </tr>\n    <tr>\n      <th>4</th>\n      <td>4BR / 3.5Ba</td>\n      <td>3</td>\n    </tr>\n    <tr>\n      <th>5</th>\n      <td>5BR / 3.5Ba</td>\n      <td>1</td>\n    </tr>\n    <tr>\n      <th>6</th>\n      <td>6BR / 4Ba</td>\n      <td>2</td>\n    </tr>\n    <tr>\n      <th>7</th>\n      <td>0BR / sharedBa</td>\n      <td>7</td>\n    </tr>\n    <tr>\n      <th>8</th>\n      <td>5BR / 4Ba</td>\n      <td>1</td>\n    </tr>\n    <tr>\n      <th>9</th>\n      <td>1BR / 2Ba</td>\n      <td>4</td>\n    </tr>\n    <tr>\n      <th>10</th>\n      <td>2BR / 3Ba</td>\n      <td>3</td>\n    </tr>\n    <tr>\n      <th>11</th>\n      <td>2BR / 1Ba</td>\n      <td>965</td>\n    </tr>\n    <tr>\n      <th>12</th>\n      <td>0BR / 1.5Ba</td>\n      <td>2</td>\n    </tr>\n    <tr>\n      <th>13</th>\n      <td>3BR / 3Ba</td>\n      <td>55</td>\n    </tr>\n    <tr>\n      <th>14</th>\n      <td>0BR / splitBa</td>\n      <td>1</td>\n    </tr>\n    <tr>\n      <th>15</th>\n      <td>2BR / 2Ba</td>\n      <td>1951</td>\n    </tr>\n    <tr>\n      <th>16</th>\n      <td>5BR / 3Ba</td>\n      <td>7</td>\n    </tr>\n    <tr>\n      <th>17</th>\n      <td>6BR / 7Ba</td>\n      <td>2</td>\n    </tr>\n    <tr>\n      <th>18</th>\n      <td>6BR / 2Ba</td>\n      <td>1</td>\n    </tr>\n    <tr>\n      <th>19</th>\n      <td>6BR / 6.5Ba</td>\n      <td>1</td>\n    </tr>\n    <tr>\n      <th>20</th>\n      <td>6BR / 5Ba</td>\n      <td>1</td>\n    </tr>\n    <tr>\n      <th>21</th>\n      <td>3BR / 1Ba</td>\n      <td>16</td>\n    </tr>\n    <tr>\n      <th>22</th>\n      <td>0BR / 2Ba</td>\n      <td>3</td>\n    </tr>\n    <tr>\n      <th>23</th>\n      <td>4BR / 2Ba</td>\n      <td>46</td>\n    </tr>\n    <tr>\n      <th>24</th>\n      <td>6BR / 3Ba</td>\n      <td>3</td>\n    </tr>\n    <tr>\n      <th>25</th>\n      <td>7BR / 6Ba</td>\n      <td>1</td>\n    </tr>\n    <tr>\n      <th>26</th>\n      <td>4BR / 3Ba</td>\n      <td>18</td>\n    </tr>\n    <tr>\n      <th>27</th>\n      <td>3BR / 4Ba</td>\n      <td>1</td>\n    </tr>\n    <tr>\n      <th>28</th>\n      <td>4BR / 4Ba</td>\n      <td>3</td>\n    </tr>\n    <tr>\n      <th>29</th>\n      <td>7BR / 3.5Ba</td>\n      <td>1</td>\n    </tr>\n    <tr>\n      <th>30</th>\n      <td>3BR / 2Ba</td>\n      <td>415</td>\n    </tr>\n    <tr>\n      <th>31</th>\n      <td>1BR / 1Ba</td>\n      <td>3437</td>\n    </tr>\n    <tr>\n      <th>32</th>\n      <td>8BR / 9+Ba</td>\n      <td>2</td>\n    </tr>\n    <tr>\n      <th>33</th>\n      <td>3BR / 2.5Ba</td>\n      <td>85</td>\n    </tr>\n    <tr>\n      <th>34</th>\n      <td>4BR / 2.5Ba</td>\n      <td>18</td>\n    </tr>\n    <tr>\n      <th>35</th>\n      <td>4BR / 4.5Ba</td>\n      <td>1</td>\n    </tr>\n    <tr>\n      <th>36</th>\n      <td>3BR / 3.5Ba</td>\n      <td>18</td>\n    </tr>\n    <tr>\n      <th>37</th>\n      <td>2BR / 2.5Ba</td>\n      <td>91</td>\n    </tr>\n    <tr>\n      <th>38</th>\n      <td>1BR / sharedBa</td>\n      <td>6</td>\n    </tr>\n    <tr>\n      <th>39</th>\n      <td>7BR / 4Ba</td>\n      <td>1</td>\n    </tr>\n    <tr>\n      <th>40</th>\n      <td>0BR / 1Ba</td>\n      <td>589</td>\n    </tr>\n    <tr>\n      <th>41</th>\n      <td>3BR / 1.5Ba</td>\n      <td>25</td>\n    </tr>\n  </tbody>\n</table>\n</div>"
     },
     "metadata": {},
     "execution_count": 40
    }
   ],
   "source": [
    "# Number of each type\n",
    "agg_result = cl_collection.aggregate( \n",
    "    [{ \n",
    "    \"$group\" :  \n",
    "        {\"_id\" : \"$listing_bedbath\",  \n",
    "         \"Types\" : {\"$sum\" : 1} \n",
    "         }} \n",
    "    ]) \n",
    "cl_df = pd.DataFrame(list(agg_result))\n",
    "cl_df.columns = ['bed bath', 'count']\n",
    "cl_df"
   ]
  },
  {
   "cell_type": "code",
   "execution_count": null,
   "metadata": {},
   "outputs": [],
   "source": []
  }
 ]
}